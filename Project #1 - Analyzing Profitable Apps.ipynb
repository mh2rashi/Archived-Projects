{
 "cells": [
  {
   "cell_type": "markdown",
   "metadata": {},
   "source": [
    "# Analyzing Profitable Android and iOS Mobile Apps\n",
    "\n",
    "This project analyzes a Kaggle dataset to find profitable mobile apps in the App Store and Google Play Store. Apps are free of cost for an English-speaking audience and the main source of revenue is through in-app ads, which implies that revenue is mostly influenced by the number of app users. Our goal is to help developers identify apps that attract more users using a data-driven approach.\n",
    "\n",
    "\n",
    "## Concepts Used\n",
    "\n",
    "* The basics of programming in Python (arithmetical operations, variables, common data types, etc.)\n",
    "* List and for loops\n",
    "* Conditional statements\n",
    "* Dictionaries and frequency tables\n",
    "* Functions\n",
    "* Jupyter Notebook"
   ]
  },
  {
   "cell_type": "markdown",
   "metadata": {},
   "source": [
    "##  Data Overview\n",
    "\n",
    "As of September 2018, there are over 4 million apps in the App Store and Google Play Store combined. We will be looking at two sample datasets which look at a subset of these apps from both stores.\n",
    "\n",
    "[Google Play Store Apps](https://www.kaggle.com/lava18/google-play-store-apps): A dataset containing information for approximately 10,000 Android apps collected in 2018 by Lavanya Gupta. Here's a link to download the [dataset](https://dq-content.s3.amazonaws.com/350/googleplaystore.csv).\n",
    "\n",
    "[Mobile App Store](https://www.kaggle.com/ramamet4/app-store-apple-data-set-10k-apps): A dataset containing information for over 7,000 Apple iOS apps collected in 2017 by Ramanathan. Here's a link to download the [dataset](https://dq-content.s3.amazonaws.com/350/AppleStore.csv)."
   ]
  },
  {
   "cell_type": "markdown",
   "metadata": {},
   "source": [
    "## Data Exploration\n",
    "\n",
    "We will load both datasets and look at the first couple of rows for each dataset. We will also print, describe and identify columns that can help us with our analysis."
   ]
  },
  {
   "cell_type": "code",
   "execution_count": 1,
   "metadata": {},
   "outputs": [
    {
     "name": "stdout",
     "output_type": "stream",
     "text": [
      "['id', 'track_name', 'size_bytes', 'currency', 'price', 'rating_count_tot', 'rating_count_ver', 'user_rating', 'user_rating_ver', 'ver', 'cont_rating', 'prime_genre', 'sup_devices.num', 'ipadSc_urls.num', 'lang.num', 'vpp_lic']\n",
      "\n",
      "\n",
      "['284882215', 'Facebook', '389879808', 'USD', '0.0', '2974676', '212', '3.5', '3.5', '95.0', '4+', 'Social Networking', '37', '1', '29', '1']\n",
      "\n",
      "\n",
      "['389801252', 'Instagram', '113954816', 'USD', '0.0', '2161558', '1289', '4.5', '4.0', '10.23', '12+', 'Photo & Video', '37', '0', '29', '1']\n",
      "\n",
      "\n",
      "['529479190', 'Clash of Clans', '116476928', 'USD', '0.0', '2130805', '579', '4.5', '4.5', '9.24.12', '9+', 'Games', '38', '5', '18', '1']\n",
      "\n",
      "\n",
      "['420009108', 'Temple Run', '65921024', 'USD', '0.0', '1724546', '3842', '4.5', '4.0', '1.6.2', '9+', 'Games', '40', '5', '1', '1']\n",
      "\n",
      "\n",
      "Number of rows: 7198\n",
      "Number of columns: 16\n"
     ]
    }
   ],
   "source": [
    "from csv import reader\n",
    "\n",
    "### iOS App Dataset ###\n",
    "\n",
    "open_AppStore = open(\"AppleStore.csv\")\n",
    "read_AppStore = reader(open_AppStore)\n",
    "ios = list(read_AppStore)\n",
    "\n",
    "for row in ios[:5]:\n",
    "    print(row)\n",
    "    print('\\n')\n",
    "    \n",
    "print('Number of rows:', len(ios))\n",
    "print('Number of columns:', len(ios[0]))"
   ]
  },
  {
   "cell_type": "markdown",
   "metadata": {},
   "source": [
    "For the iOS dataset, we have data describing 7197 apps (first row is for the header) with 13 columns. Here's a description for each of the columns from the Kaggle website.\n",
    "\n",
    "* \"id\" : App ID\n",
    "\n",
    "* \"track_name\": App Name\n",
    "\n",
    "* \"size_bytes\": Size (in Bytes)\n",
    "\n",
    "* \"currency\": Currency Type\n",
    "\n",
    "* \"price\": Price amount\n",
    "\n",
    "* \"rating_count_tot\": User Rating counts (for all versions)\n",
    "\n",
    "* \"rating_count_ver\": User Rating counts (for current version)\n",
    "\n",
    "* \"user_rating\" : Average User Rating value (for all versions)\n",
    "\n",
    "* \"user_rating_ver\": Average User Rating value (for current version)\n",
    "\n",
    "* \"ver\" : Latest version code\n",
    "\n",
    "* \"cont_rating\": Content Rating\n",
    "\n",
    "* \"prime_genre\": Primary Genre\n",
    "\n",
    "* \"sup_devices.num\": Number of supporting devices\n",
    "\n",
    "* \"ipadSc_urls.num\": Number of screenshots showed for display\n",
    "\n",
    "* \"lang.num\": Number of supported languages\n",
    "\n",
    "* \"vpp_lic\": Vpp Device Based Licensing Enabled\n",
    "\n",
    "At first glance, `track_name, price, rating_count, user_rating, cont_rating` and `prime_genre` seem to be the most useful columns."
   ]
  },
  {
   "cell_type": "code",
   "execution_count": 2,
   "metadata": {},
   "outputs": [
    {
     "name": "stdout",
     "output_type": "stream",
     "text": [
      "['App', 'Category', 'Rating', 'Reviews', 'Size', 'Installs', 'Type', 'Price', 'Content Rating', 'Genres', 'Last Updated', 'Current Ver', 'Android Ver']\n",
      "\n",
      "\n",
      "['Photo Editor & Candy Camera & Grid & ScrapBook', 'ART_AND_DESIGN', '4.1', '159', '19M', '10,000+', 'Free', '0', 'Everyone', 'Art & Design', 'January 7, 2018', '1.0.0', '4.0.3 and up']\n",
      "\n",
      "\n",
      "['Coloring book moana', 'ART_AND_DESIGN', '3.9', '967', '14M', '500,000+', 'Free', '0', 'Everyone', 'Art & Design;Pretend Play', 'January 15, 2018', '2.0.0', '4.0.3 and up']\n",
      "\n",
      "\n",
      "['U Launcher Lite – FREE Live Cool Themes, Hide Apps', 'ART_AND_DESIGN', '4.7', '87510', '8.7M', '5,000,000+', 'Free', '0', 'Everyone', 'Art & Design', 'August 1, 2018', '1.2.4', '4.0.3 and up']\n",
      "\n",
      "\n",
      "['Sketch - Draw & Paint', 'ART_AND_DESIGN', '4.5', '215644', '25M', '50,000,000+', 'Free', '0', 'Teen', 'Art & Design', 'June 8, 2018', 'Varies with device', '4.2 and up']\n",
      "\n",
      "\n",
      "Number of rows: 10842\n",
      "Number of columns: 13\n"
     ]
    }
   ],
   "source": [
    "### Google App Store Dataset ###\n",
    "\n",
    "open_GoogleStore = open(\"googleplaystore.csv\")\n",
    "read_GoogleStore = reader(open_GoogleStore)\n",
    "android = list(read_GoogleStore)\n",
    "\n",
    "for row in android[:5]:\n",
    "    print(row)\n",
    "    print('\\n')\n",
    "    \n",
    "print('Number of rows:', len(android))\n",
    "print('Number of columns:', len(android[0]))"
   ]
  },
  {
   "cell_type": "markdown",
   "metadata": {},
   "source": [
    "For the android dataset, we have data describing 10841 apps (first row is for the header) with 13 columns. Here's a description for each of the columns from the Kaggle website.\n",
    "\n",
    "* \"App\": Application name\n",
    "\n",
    "* \"Category\":Category the app belongs to\n",
    "\n",
    "* \"Rating\": Overall user rating of the app (as when scraped)\n",
    "\n",
    "* \"Reviews\": Number of user reviews for the app (as when scraped)\n",
    "\n",
    "* \"Size\": Size of the app (as when scraped)\n",
    "\n",
    "* \"Installs\": Number of user downloads/installs for the app (as when scraped)\n",
    "\n",
    "* \"Type\": Paid or Free\n",
    "\n",
    "* \"Price\": Price of the app (as when scraped)\n",
    "\n",
    "* \"Content Rating\": Age group the app is targeted at - Children / Mature 21+ / Adult\n",
    "\n",
    "* \"Genres\": An app can belong to multiple genres (apart from its main category). For eg, a musical family game will belong to INCOMPLETE\n",
    "\n",
    "At first glance, `App, Category, Rating, Reviews, Installs, Type and Genres` seem to be the most useful columns."
   ]
  },
  {
   "cell_type": "markdown",
   "metadata": {},
   "source": [
    "## Data Cleanup\n",
    "\n",
    "We will now continue with the data cleanup process. Specifically, we will:\n",
    "1. Deal with inaccurate data.\n",
    "2. Remove duplicate data.\n",
    "3. Remove non-English apps.\n",
    "4. Remove non-free apps."
   ]
  },
  {
   "cell_type": "markdown",
   "metadata": {},
   "source": [
    "The Android dataset has a discussion section, which mentions an error for row 10473. Let's see if the data is inaccurate."
   ]
  },
  {
   "cell_type": "code",
   "execution_count": 3,
   "metadata": {},
   "outputs": [
    {
     "name": "stdout",
     "output_type": "stream",
     "text": [
      "['Life Made WI-Fi Touchscreen Photo Frame', '1.9', '19', '3.0M', '1,000+', 'Free', '0', 'Everyone', '', 'February 11, 2018', '1.0.19', '4.0 and up']\n",
      "\n",
      "\n",
      "['App', 'Category', 'Rating', 'Reviews', 'Size', 'Installs', 'Type', 'Price', 'Content Rating', 'Genres', 'Last Updated', 'Current Ver', 'Android Ver']\n",
      "\n",
      "\n",
      "['Photo Editor & Candy Camera & Grid & ScrapBook', 'ART_AND_DESIGN', '4.1', '159', '19M', '10,000+', 'Free', '0', 'Everyone', 'Art & Design', 'January 7, 2018', '1.0.0', '4.0.3 and up']\n"
     ]
    }
   ],
   "source": [
    "print(android[10473]) \n",
    "print('\\n')\n",
    "print(android[0])\n",
    "print('\\n')\n",
    "print(android[1])"
   ]
  },
  {
   "cell_type": "markdown",
   "metadata": {},
   "source": [
    "We can see that the `Category` columns seems to be off as well as the `Rating` which equals 19 (max is 5) for row 10473. It seems that the `Category` column is missing its value. Hence, we will delete this row."
   ]
  },
  {
   "cell_type": "code",
   "execution_count": 4,
   "metadata": {},
   "outputs": [],
   "source": [
    "del android[10473]"
   ]
  },
  {
   "cell_type": "markdown",
   "metadata": {},
   "source": [
    "According to the discussion section, there is duplicate data in the android dataset. Let's count them."
   ]
  },
  {
   "cell_type": "code",
   "execution_count": 5,
   "metadata": {},
   "outputs": [
    {
     "name": "stdout",
     "output_type": "stream",
     "text": [
      "1181\n",
      "['Quick PDF Scanner + OCR FREE', 'Box', 'Google My Business']\n"
     ]
    }
   ],
   "source": [
    "dup_apps = []\n",
    "unq_apps = []\n",
    "\n",
    "for app in android:\n",
    "    if app[0] in unq_apps:\n",
    "        dup_apps.append(app[0])\n",
    "    else:\n",
    "        unq_apps.append(app[0])\n",
    "        \n",
    "print(len(dup_apps)) # Number of duplicate apps\n",
    "print(dup_apps[:3]) # A sample of the duplicate app names"
   ]
  },
  {
   "cell_type": "markdown",
   "metadata": {},
   "source": [
    " We have 1181 duplicate apps, and we will need a method of choosing which rows to keep instead of randomly deleting rows. Let's print one of the duplicate apps and see the difference between rows."
   ]
  },
  {
   "cell_type": "code",
   "execution_count": 6,
   "metadata": {
    "scrolled": false
   },
   "outputs": [
    {
     "name": "stdout",
     "output_type": "stream",
     "text": [
      "['App', 'Category', 'Rating', 'Reviews', 'Size', 'Installs', 'Type', 'Price', 'Content Rating', 'Genres', 'Last Updated', 'Current Ver', 'Android Ver']\n",
      "\n",
      "\n",
      "['Instagram', 'SOCIAL', '4.5', '66577313', 'Varies with device', '1,000,000,000+', 'Free', '0', 'Teen', 'Social', 'July 31, 2018', 'Varies with device', 'Varies with device']\n",
      "\n",
      "\n",
      "['Instagram', 'SOCIAL', '4.5', '66577446', 'Varies with device', '1,000,000,000+', 'Free', '0', 'Teen', 'Social', 'July 31, 2018', 'Varies with device', 'Varies with device']\n",
      "\n",
      "\n",
      "['Instagram', 'SOCIAL', '4.5', '66577313', 'Varies with device', '1,000,000,000+', 'Free', '0', 'Teen', 'Social', 'July 31, 2018', 'Varies with device', 'Varies with device']\n",
      "\n",
      "\n",
      "['Instagram', 'SOCIAL', '4.5', '66509917', 'Varies with device', '1,000,000,000+', 'Free', '0', 'Teen', 'Social', 'July 31, 2018', 'Varies with device', 'Varies with device']\n",
      "\n",
      "\n"
     ]
    }
   ],
   "source": [
    "print(android[0]) # Header columns\n",
    "print('\\n')\n",
    "\n",
    "for app in android:\n",
    "    if app[0] == 'Instagram':\n",
    "        print(app)\n",
    "        print('\\n')"
   ]
  },
  {
   "cell_type": "markdown",
   "metadata": {},
   "source": [
    "We can see that the only difference between the duplicates is in the 4th column, `Reviews`. We will keep the app with the highest number of reviews, as a higher number indicates more recent data. To remove the duplicates:\n",
    "* Create a dictionary with a key-value pair of app_name: highest_number_of_reviews\n",
    "* Use the information in the dictionary to create a new dataset, with one entry per app"
   ]
  },
  {
   "cell_type": "code",
   "execution_count": 7,
   "metadata": {},
   "outputs": [
    {
     "name": "stdout",
     "output_type": "stream",
     "text": [
      "Expected number of apps after we remove duplicates: 9659\n",
      "9659\n"
     ]
    }
   ],
   "source": [
    "print(\"Expected number of apps after we remove duplicates:\", len(android) - 1181 - 1) # the 1 is for the header row\n",
    "\n",
    "dict_review = {}\n",
    "\n",
    "for app in android[1:]:\n",
    "    n_review = float(app[3])\n",
    "    app_name = app[0]\n",
    "    if app_name in dict_review and n_review > dict_review[app_name]:\n",
    "        dict_review[app_name] = n_review\n",
    "    elif app_name not in dict_review:\n",
    "        dict_review[app_name] = n_review\n",
    "        \n",
    "print(len(dict_review))"
   ]
  },
  {
   "cell_type": "markdown",
   "metadata": {},
   "source": [
    "Since the length of our dictionary matches the length of the dataset after we remove the duplicates, it is correct. Now we will use this dictionary to filter our dataset. We will:\n",
    "\n",
    "* Create two lists: android_clean & already_added\n",
    "* Run a for loop, to append apps with the highest reviews to our android_clean list"
   ]
  },
  {
   "cell_type": "code",
   "execution_count": 8,
   "metadata": {},
   "outputs": [
    {
     "name": "stdout",
     "output_type": "stream",
     "text": [
      "9659\n"
     ]
    }
   ],
   "source": [
    "android_clean = []\n",
    "already_added = []\n",
    "\n",
    "for app in android[1:]:\n",
    "    name = app[0]\n",
    "    reviews = float(app[3])\n",
    "    if reviews == dict_review[name] and name not in already_added:\n",
    "        android_clean.append(app)\n",
    "        already_added.append(name)\n",
    "        \n",
    "print(len(android_clean))"
   ]
  },
  {
   "cell_type": "markdown",
   "metadata": {},
   "source": [
    "Now, our new dataset had 9659 unique apps. Let's check if the iOS dataset has duplicate apps by checking the `id` column."
   ]
  },
  {
   "cell_type": "code",
   "execution_count": 9,
   "metadata": {},
   "outputs": [
    {
     "name": "stdout",
     "output_type": "stream",
     "text": [
      "0\n"
     ]
    }
   ],
   "source": [
    "dup_apps_ios = []\n",
    "unq_apps_ios = []\n",
    "\n",
    "for app in ios:\n",
    "    if app[0] in unq_apps_ios:\n",
    "        dup_apps_ios.append(app[0])\n",
    "    else:\n",
    "        unq_apps_ios.append(app[0])\n",
    "        \n",
    "print(len(dup_apps_ios)) # Number of duplicate apps"
   ]
  },
  {
   "cell_type": "markdown",
   "metadata": {},
   "source": [
    "So, there are no duplicate apps within the iOS dataset. Now, let's check for non-English speaking apps."
   ]
  },
  {
   "cell_type": "code",
   "execution_count": 10,
   "metadata": {},
   "outputs": [
    {
     "name": "stdout",
     "output_type": "stream",
     "text": [
      "爱奇艺PPS -《欢乐颂2》电视剧热播 【脱出ゲーム】絶対に最後までプレイしないで 〜謎解き＆ブロックパズル〜\n",
      "\n",
      "\n",
      "中国語 AQリスニング لعبة تقدر تربح DZ\n"
     ]
    }
   ],
   "source": [
    "print(ios[814][1],ios[6732][1])\n",
    "print('\\n')\n",
    "print(android_clean[4412][0],android_clean[7940][0])"
   ]
  },
  {
   "cell_type": "markdown",
   "metadata": {},
   "source": [
    "Since we are not interested in these apps, we will remove them. We'll remove apps whose names contain symbols not commonly used in English text. Since each character in a string has a corresponding number associated with it, we will use the number via the `ord()` function. The numbers corresponding to the characters used in English text are all in the range of 0 to 127 according to ASCII (American Standard Code for Information Interchange)"
   ]
  },
  {
   "cell_type": "code",
   "execution_count": 11,
   "metadata": {},
   "outputs": [
    {
     "name": "stdout",
     "output_type": "stream",
     "text": [
      "True\n",
      "False\n",
      "False\n",
      "False\n",
      "128540\n",
      "8482\n"
     ]
    }
   ],
   "source": [
    "def check_string(string):\n",
    "    for char in string:\n",
    "        if ord(char) > 127:\n",
    "            return False\n",
    "    return True\n",
    "\n",
    "print(check_string('Instagram'))\n",
    "print(check_string('爱奇艺PPS -《欢乐颂2》电视剧热播'))\n",
    "print(check_string('Docs To Go™ Free Office Suite'))\n",
    "print(check_string('Instachat 😜'))\n",
    "print(ord('😜'))\n",
    "print(ord('™'))"
   ]
  },
  {
   "cell_type": "markdown",
   "metadata": {},
   "source": [
    "For the last two examples, we get false, due to emojis and ™ logo. Since these symbols fall outside the ASCII range, we could potentially remove English speaking apps. So, in order to avoid this, we will keep apps with upto three non-English characters. This is still not perfect, but much more effective."
   ]
  },
  {
   "cell_type": "code",
   "execution_count": 12,
   "metadata": {},
   "outputs": [
    {
     "name": "stdout",
     "output_type": "stream",
     "text": [
      "True\n",
      "True\n"
     ]
    }
   ],
   "source": [
    "def check_string_v1(string):\n",
    "    count = 0\n",
    "    for char in string:\n",
    "        if ord(char) > 127:\n",
    "            count += 1\n",
    "    if count > 3:\n",
    "        return False\n",
    "    return True\n",
    "\n",
    "print(check_string_v1('Docs To Go™ Free Office Suite'))\n",
    "print(check_string_v1('Instachat 😜'))"
   ]
  },
  {
   "cell_type": "markdown",
   "metadata": {},
   "source": [
    "Now, let's use this function to filter both datasets."
   ]
  },
  {
   "cell_type": "code",
   "execution_count": 13,
   "metadata": {},
   "outputs": [
    {
     "name": "stdout",
     "output_type": "stream",
     "text": [
      "Number of iOS apps: 6183\n",
      "\n",
      "\n",
      "Number of android apps: 9614\n"
     ]
    }
   ],
   "source": [
    "android_eng = []\n",
    "ios_eng = []\n",
    "\n",
    "for row in android_clean:\n",
    "    if check_string_v1(row[0]) == True:\n",
    "        android_eng.append(row)\n",
    "        \n",
    "for row in ios[1:]:\n",
    "    if check_string_v1(row[1]) == True:\n",
    "        ios_eng.append(row)\n",
    "\n",
    "print(\"Number of ios apps:\", len(ios_eng))\n",
    "print('\\n')\n",
    "print(\"Number of android apps:\", len(android_eng))"
   ]
  },
  {
   "cell_type": "markdown",
   "metadata": {},
   "source": [
    "In the last step of our data cleaning process, we will isolate free apps."
   ]
  },
  {
   "cell_type": "code",
   "execution_count": 14,
   "metadata": {},
   "outputs": [
    {
     "name": "stdout",
     "output_type": "stream",
     "text": [
      "Number of ios apps: 3222\n",
      "\n",
      "\n",
      "Number of android apps: 8864\n"
     ]
    }
   ],
   "source": [
    "android_final = []\n",
    "ios_final = []\n",
    "\n",
    "for row in android_eng:\n",
    "    if row[7] == '0':\n",
    "        android_final.append(row)\n",
    "        \n",
    "for row in ios_eng:\n",
    "    if row[4] == '0.0':\n",
    "        ios_final.append(row)\n",
    "\n",
    "print(\"Number of ios apps:\", len(ios_final))\n",
    "print('\\n')\n",
    "print(\"Number of android apps:\", len(android_final))"
   ]
  },
  {
   "cell_type": "markdown",
   "metadata": {},
   "source": [
    "## Data Analysis\n",
    "\n",
    "A developer's validation strategy is to:\n",
    "\n",
    "* Build a minimal app and add it to the Google Play Store\n",
    "* Develop the app further if it's received positively\n",
    "* If the app is profitable for 6 months, build an iOS version and add it to the App Store\n",
    "\n",
    "Since we would like to add apps on both stores, we need to find app profiles that are successful in both markets. We will look at the most important genres in both markets by building a frequency table. Next, we'll look at the `prime_genre` column for the iOS dataset, and the `Genres` and `Category` columns for the android dataset."
   ]
  },
  {
   "cell_type": "code",
   "execution_count": 15,
   "metadata": {},
   "outputs": [],
   "source": [
    "### Frequency Table Function ###\n",
    "\n",
    "def freq_table(dataset,index):\n",
    "    # creating the frequency dictionary\n",
    "    freq_dict = {}\n",
    "    total = 0\n",
    "    for row in dataset:\n",
    "        total += 1\n",
    "        if row[index] in freq_dict:\n",
    "            freq_dict[row[index]] += 1\n",
    "        else:\n",
    "            freq_dict[row[index]] = 1\n",
    "    # creating the percentage dictionary\n",
    "    freq_percents = {}\n",
    "    for key in freq_dict:\n",
    "        percentage = (freq_dict[key] / total) * 100\n",
    "        freq_percents[key] = percentage \n",
    "    # creating a list of tuples from the percentage dictionary\n",
    "    display_table = []\n",
    "    for key in freq_percents:\n",
    "        display_table.append((freq_percents[key],key))\n",
    "    # sorting the list in ascending order and printing percentages\n",
    "    display_table = sorted(display_table, reverse = True)\n",
    "    for item in display_table:\n",
    "        print(item[1],':',item[0])"
   ]
  },
  {
   "cell_type": "code",
   "execution_count": 16,
   "metadata": {},
   "outputs": [
    {
     "name": "stdout",
     "output_type": "stream",
     "text": [
      "Games : 58.16263190564867\n",
      "Entertainment : 7.883302296710118\n",
      "Photo & Video : 4.9658597144630665\n",
      "Education : 3.662321539416512\n",
      "Social Networking : 3.2898820608317814\n",
      "Shopping : 2.60707635009311\n",
      "Utilities : 2.5139664804469275\n",
      "Sports : 2.1415270018621975\n",
      "Music : 2.0484171322160147\n",
      "Health & Fitness : 2.0173805090006205\n",
      "Productivity : 1.7380509000620732\n",
      "Lifestyle : 1.5828677839851024\n",
      "News : 1.3345747982619491\n",
      "Travel : 1.2414649286157666\n",
      "Finance : 1.1173184357541899\n",
      "Weather : 0.8690254500310366\n",
      "Food & Drink : 0.8069522036002483\n",
      "Reference : 0.5586592178770949\n",
      "Business : 0.5276225946617008\n",
      "Book : 0.4345127250155183\n",
      "Navigation : 0.186219739292365\n",
      "Medical : 0.186219739292365\n",
      "Catalogs : 0.12414649286157665\n"
     ]
    }
   ],
   "source": [
    "### prime_genre column frequency table in the iOS dataset ###\n",
    "freq_table(ios_final,-5)"
   ]
  },
  {
   "cell_type": "markdown",
   "metadata": {},
   "source": [
    "In the iOS dataset, `Games` make up the majority of apps (58.16%), followed by `Entertainment` (7.88%) and `Photo & Video` (4.97%). It seems that in the App Store, the free apps section is dominated by leisure apps (`Games`, `Entertainment`, `Photo & Video`) while practical/productivity apps (`Education`, `Shopping`, `Utilities` etc.) are less dominant. However, making the assumption that leisure apps have the most users is not correct - demand might not match supply."
   ]
  },
  {
   "cell_type": "code",
   "execution_count": 17,
   "metadata": {},
   "outputs": [
    {
     "name": "stdout",
     "output_type": "stream",
     "text": [
      "FAMILY : 18.907942238267147\n",
      "GAME : 9.724729241877256\n",
      "TOOLS : 8.461191335740072\n",
      "BUSINESS : 4.591606498194946\n",
      "LIFESTYLE : 3.9034296028880866\n",
      "PRODUCTIVITY : 3.892148014440433\n",
      "FINANCE : 3.7003610108303246\n",
      "MEDICAL : 3.531137184115524\n",
      "SPORTS : 3.395758122743682\n",
      "PERSONALIZATION : 3.3167870036101084\n",
      "COMMUNICATION : 3.2378158844765346\n",
      "HEALTH_AND_FITNESS : 3.0798736462093865\n",
      "PHOTOGRAPHY : 2.944494584837545\n",
      "NEWS_AND_MAGAZINES : 2.7978339350180503\n",
      "SOCIAL : 2.6624548736462095\n",
      "TRAVEL_AND_LOCAL : 2.33528880866426\n",
      "SHOPPING : 2.2450361010830324\n",
      "BOOKS_AND_REFERENCE : 2.1435018050541514\n",
      "DATING : 1.861462093862816\n",
      "VIDEO_PLAYERS : 1.7937725631768955\n",
      "MAPS_AND_NAVIGATION : 1.3989169675090252\n",
      "FOOD_AND_DRINK : 1.2409747292418771\n",
      "EDUCATION : 1.1620036101083033\n",
      "ENTERTAINMENT : 0.9589350180505415\n",
      "LIBRARIES_AND_DEMO : 0.9363718411552346\n",
      "AUTO_AND_VEHICLES : 0.9250902527075812\n",
      "HOUSE_AND_HOME : 0.8235559566787004\n",
      "WEATHER : 0.8009927797833934\n",
      "EVENTS : 0.7107400722021661\n",
      "PARENTING : 0.6543321299638989\n",
      "ART_AND_DESIGN : 0.6430505415162455\n",
      "COMICS : 0.6204873646209386\n",
      "BEAUTY : 0.5979241877256317\n"
     ]
    }
   ],
   "source": [
    "### Category column frequency table in the android dataset ###\n",
    "freq_table(android_final,1)"
   ]
  },
  {
   "cell_type": "markdown",
   "metadata": {},
   "source": [
    "In the android dataset, `FAMILY` makes up the majority of apps (18.91%), followed by `GAME` (9.72%) and `TOOLS` (8.46%). It seems that in the Google Play Store, the distribution of apps is more balanced. However, upon further investigation, the `FAMILY` category is mostly games for kids.\n",
    "\n",
    "![Image](https://play.google.com/store/apps/category/FAMILY?hl=en)\n",
    "\n",
    "Still, practical apps are better represented in Google Play Store. Let's take a look at the `Genres` column in the android dataset. "
   ]
  },
  {
   "cell_type": "code",
   "execution_count": 18,
   "metadata": {},
   "outputs": [
    {
     "name": "stdout",
     "output_type": "stream",
     "text": [
      "Tools : 8.449909747292418\n",
      "Entertainment : 6.069494584837545\n",
      "Education : 5.347472924187725\n",
      "Business : 4.591606498194946\n",
      "Productivity : 3.892148014440433\n",
      "Lifestyle : 3.892148014440433\n",
      "Finance : 3.7003610108303246\n",
      "Medical : 3.531137184115524\n",
      "Sports : 3.463447653429603\n",
      "Personalization : 3.3167870036101084\n",
      "Communication : 3.2378158844765346\n",
      "Action : 3.1024368231046933\n",
      "Health & Fitness : 3.0798736462093865\n",
      "Photography : 2.944494584837545\n",
      "News & Magazines : 2.7978339350180503\n",
      "Social : 2.6624548736462095\n",
      "Travel & Local : 2.3240072202166067\n",
      "Shopping : 2.2450361010830324\n",
      "Books & Reference : 2.1435018050541514\n",
      "Simulation : 2.0419675090252705\n",
      "Dating : 1.861462093862816\n",
      "Arcade : 1.8501805054151623\n",
      "Video Players & Editors : 1.7712093862815883\n",
      "Casual : 1.7599277978339352\n",
      "Maps & Navigation : 1.3989169675090252\n",
      "Food & Drink : 1.2409747292418771\n",
      "Puzzle : 1.128158844765343\n",
      "Racing : 0.9927797833935018\n",
      "Role Playing : 0.9363718411552346\n",
      "Libraries & Demo : 0.9363718411552346\n",
      "Auto & Vehicles : 0.9250902527075812\n",
      "Strategy : 0.9138086642599278\n",
      "House & Home : 0.8235559566787004\n",
      "Weather : 0.8009927797833934\n",
      "Events : 0.7107400722021661\n",
      "Adventure : 0.6768953068592057\n",
      "Comics : 0.6092057761732852\n",
      "Beauty : 0.5979241877256317\n",
      "Art & Design : 0.5979241877256317\n",
      "Parenting : 0.4963898916967509\n",
      "Card : 0.45126353790613716\n",
      "Casino : 0.42870036101083037\n",
      "Trivia : 0.41741877256317694\n",
      "Educational;Education : 0.39485559566787\n",
      "Board : 0.3835740072202166\n",
      "Educational : 0.3722924187725632\n",
      "Education;Education : 0.33844765342960287\n",
      "Word : 0.2594765342960289\n",
      "Casual;Pretend Play : 0.236913357400722\n",
      "Music : 0.2030685920577617\n",
      "Racing;Action & Adventure : 0.16922382671480143\n",
      "Puzzle;Brain Games : 0.16922382671480143\n",
      "Entertainment;Music & Video : 0.16922382671480143\n",
      "Casual;Brain Games : 0.13537906137184114\n",
      "Casual;Action & Adventure : 0.13537906137184114\n",
      "Arcade;Action & Adventure : 0.12409747292418773\n",
      "Action;Action & Adventure : 0.10153429602888085\n",
      "Educational;Pretend Play : 0.09025270758122744\n",
      "Simulation;Action & Adventure : 0.078971119133574\n",
      "Parenting;Education : 0.078971119133574\n",
      "Entertainment;Brain Games : 0.078971119133574\n",
      "Board;Brain Games : 0.078971119133574\n",
      "Parenting;Music & Video : 0.06768953068592057\n",
      "Educational;Brain Games : 0.06768953068592057\n",
      "Casual;Creativity : 0.06768953068592057\n",
      "Art & Design;Creativity : 0.06768953068592057\n",
      "Education;Pretend Play : 0.056407942238267145\n",
      "Role Playing;Pretend Play : 0.04512635379061372\n",
      "Education;Creativity : 0.04512635379061372\n",
      "Role Playing;Action & Adventure : 0.033844765342960284\n",
      "Puzzle;Action & Adventure : 0.033844765342960284\n",
      "Entertainment;Creativity : 0.033844765342960284\n",
      "Entertainment;Action & Adventure : 0.033844765342960284\n",
      "Educational;Creativity : 0.033844765342960284\n",
      "Educational;Action & Adventure : 0.033844765342960284\n",
      "Education;Music & Video : 0.033844765342960284\n",
      "Education;Brain Games : 0.033844765342960284\n",
      "Education;Action & Adventure : 0.033844765342960284\n",
      "Adventure;Action & Adventure : 0.033844765342960284\n",
      "Video Players & Editors;Music & Video : 0.02256317689530686\n",
      "Sports;Action & Adventure : 0.02256317689530686\n",
      "Simulation;Pretend Play : 0.02256317689530686\n",
      "Puzzle;Creativity : 0.02256317689530686\n",
      "Music;Music & Video : 0.02256317689530686\n",
      "Entertainment;Pretend Play : 0.02256317689530686\n",
      "Casual;Education : 0.02256317689530686\n",
      "Board;Action & Adventure : 0.02256317689530686\n",
      "Video Players & Editors;Creativity : 0.01128158844765343\n",
      "Trivia;Education : 0.01128158844765343\n",
      "Travel & Local;Action & Adventure : 0.01128158844765343\n",
      "Tools;Education : 0.01128158844765343\n",
      "Strategy;Education : 0.01128158844765343\n",
      "Strategy;Creativity : 0.01128158844765343\n",
      "Strategy;Action & Adventure : 0.01128158844765343\n",
      "Simulation;Education : 0.01128158844765343\n",
      "Role Playing;Brain Games : 0.01128158844765343\n",
      "Racing;Pretend Play : 0.01128158844765343\n",
      "Puzzle;Education : 0.01128158844765343\n",
      "Parenting;Brain Games : 0.01128158844765343\n",
      "Music & Audio;Music & Video : 0.01128158844765343\n",
      "Lifestyle;Pretend Play : 0.01128158844765343\n",
      "Lifestyle;Education : 0.01128158844765343\n",
      "Health & Fitness;Education : 0.01128158844765343\n",
      "Health & Fitness;Action & Adventure : 0.01128158844765343\n",
      "Entertainment;Education : 0.01128158844765343\n",
      "Communication;Creativity : 0.01128158844765343\n",
      "Comics;Creativity : 0.01128158844765343\n",
      "Casual;Music & Video : 0.01128158844765343\n",
      "Card;Action & Adventure : 0.01128158844765343\n",
      "Books & Reference;Education : 0.01128158844765343\n",
      "Art & Design;Pretend Play : 0.01128158844765343\n",
      "Art & Design;Action & Adventure : 0.01128158844765343\n",
      "Arcade;Pretend Play : 0.01128158844765343\n",
      "Adventure;Education : 0.01128158844765343\n"
     ]
    }
   ],
   "source": [
    "### Genres column frequency table in the android dataset ###\n",
    "freq_table(android_final,-4)"
   ]
  },
  {
   "cell_type": "markdown",
   "metadata": {},
   "source": [
    "Looking at the distribution of the `Genres` column, we can confirm that the distribution of apps in the android dataset is much better compared to the iOS dataset. Although the difference between the `Genres` and `Category` column is not clear, the `Genres` column seems much more granular (more categories).\n",
    "\n",
    "Now, let's look at the apps that have the highest number of users in each dataset. We will:\n",
    "\n",
    "* Calculate the average number of installations for each app. For the android dataset, we have the `Installs` column, but there is no such column in the iOS dataset.\n",
    "* We will use the total number of user ratings as a proxy for the iOS dataset, using the `rating_count_tot` column."
   ]
  },
  {
   "cell_type": "code",
   "execution_count": 19,
   "metadata": {},
   "outputs": [
    {
     "name": "stdout",
     "output_type": "stream",
     "text": [
      "Navigation : 86090.33333333333\n",
      "Reference : 74942.11111111111\n",
      "Social Networking : 71548.34905660378\n",
      "Music : 57326.530303030304\n",
      "Weather : 52279.892857142855\n",
      "Book : 39758.5\n",
      "Food & Drink : 33333.92307692308\n",
      "Finance : 31467.944444444445\n",
      "Photo & Video : 28441.54375\n",
      "Travel : 28243.8\n",
      "Shopping : 26919.690476190477\n",
      "Health & Fitness : 23298.015384615384\n",
      "Sports : 23008.898550724636\n",
      "Games : 22788.6696905016\n",
      "News : 21248.023255813954\n",
      "Productivity : 21028.410714285714\n",
      "Utilities : 18684.456790123455\n",
      "Lifestyle : 16485.764705882353\n",
      "Entertainment : 14029.830708661417\n",
      "Business : 7491.117647058823\n",
      "Education : 7003.983050847458\n",
      "Catalogs : 4004.0\n",
      "Medical : 612.0\n"
     ]
    }
   ],
   "source": [
    "### Average number of user rating per app genre for the iOS dataset ###\n",
    "\n",
    "# using a for loop to get unique genres\n",
    "\n",
    "ios_genres = []\n",
    "for row in ios_final:\n",
    "    if row[-5] not in ios_genres:\n",
    "        ios_genres.append(row[-5])\n",
    "\n",
    "# using a for loop to count average user ratings for each genre\n",
    "genre_average = []\n",
    "genre_dict = {}\n",
    "\n",
    "for genre in ios_genres:\n",
    "    total = 0\n",
    "    genre_len = 0\n",
    "    for row in ios_final:\n",
    "        if row[-5] == genre:\n",
    "            total += float(row[5])\n",
    "            genre_len += 1\n",
    "    genre_dict[genre] = total/genre_len\n",
    "    genre_average.append((genre_dict[genre],genre))\n",
    "    \n",
    "# sorting and displaying average number of user rating for each genre in descending order\n",
    "genre_sorted = sorted(genre_average,reverse=True)\n",
    "\n",
    "for item in genre_sorted:\n",
    "    print(item[1],':',item[0])"
   ]
  },
  {
   "cell_type": "markdown",
   "metadata": {},
   "source": [
    "`Navigation` apps have the highest number of user ratings. Let's look at the distribution to see which apps have the highest rating count."
   ]
  },
  {
   "cell_type": "code",
   "execution_count": 22,
   "metadata": {},
   "outputs": [
    {
     "name": "stdout",
     "output_type": "stream",
     "text": [
      "Rating for Apps in Navigation genre\n",
      "\n",
      "\n",
      "Railway Route Search : 5\n",
      "CoPilot GPS – Car Navigation & Offline Maps : 3582\n",
      "Waze - GPS Navigation, Maps & Real-time Traffic : 345046\n",
      "ImmobilienScout24: Real Estate Search in Germany : 187\n",
      "Google Maps - Navigation & Transit : 154911\n",
      "Geocaching® : 12811\n"
     ]
    }
   ],
   "source": [
    "# Use a for loop to display the rating for each app in the Navigation genre\n",
    "\n",
    "ios_navigation = []\n",
    "ios_navigation_dict = {}\n",
    "\n",
    "for row in ios_final:\n",
    "    if row[-5] == 'Navigation':\n",
    "        ios_navigation_dict[row[1]] = row[5]\n",
    "        ios_navigation.append((ios_navigation_dict[row[1]],row[1]))\n",
    "\n",
    "# Sort and display results in ascending order\n",
    "ios_navigation_sorted = sorted(ios_navigation,reverse=True)\n",
    "\n",
    "print(\"Rating for Apps in Navigation genre\")\n",
    "print('\\n')\n",
    "\n",
    "for item in ios_navigation_sorted:\n",
    "    print(item[1],':',item[0])"
   ]
  },
  {
   "cell_type": "markdown",
   "metadata": {},
   "source": [
    "It seems that **Waze - GPS Navigation, Maps & Real-time Traffic** and **Google Maps - Navigation & Transit** dominate in the `Navigation` category. Let's take a look at the `Reference` and `Social Networking` category."
   ]
  },
  {
   "cell_type": "code",
   "execution_count": 21,
   "metadata": {},
   "outputs": [
    {
     "name": "stdout",
     "output_type": "stream",
     "text": [
      "Rating for Apps in Reference genre\n",
      "\n",
      "\n",
      "Bible : 985920\n",
      "City Maps for Minecraft PE - The Best Maps for Minecraft Pocket Edition (MCPE) : 8535\n",
      "Guides for Pokémon GO - Pokemon GO News and Cheats : 826\n",
      "Real Bike Traffic Rider Virtual Reality Glasses : 8\n",
      "WWDC : 762\n",
      "Horror Maps for Minecraft PE - Download The Scariest Maps for Minecraft Pocket Edition (MCPE) Free : 718\n",
      "Dictionary.com Dictionary & Thesaurus for iPad : 54175\n",
      "LUCKY BLOCK MOD ™ for Minecraft PC Edition - The Best Pocket Wiki & Mods Installer Tools : 4693\n",
      "Google Translate : 26786\n",
      "Dictionary.com Dictionary & Thesaurus : 200047\n",
      "Muslim Pro: Ramadan 2017 Prayer Times, Azan, Quran : 18418\n",
      "New Furniture Mods - Pocket Wiki & Game Tools for Minecraft PC Edition : 17588\n",
      "Merriam-Webster Dictionary : 16849\n",
      "GUNS MODS for Minecraft PC Edition - Mods Tools : 1497\n",
      "VPN Express : 14\n",
      "Night Sky : 12122\n",
      "教えて!goo : 0\n",
      "Jishokun-Japanese English Dictionary & Translator : 0\n",
      "\n",
      "\n",
      "Rating for Apps in Social Networking genre\n",
      "\n",
      "\n",
      "MeetMe - Chat and Meet New People : 97072\n",
      "Discord - Chat for Gamers : 9152\n",
      "QQ : 9109\n",
      "We Heart It - Fashion, wallpapers, quotes, tattoos : 90414\n",
      "Fiesta by Tango - Chat & Meet New People : 885\n",
      "Google Allo — smart messaging : 862\n",
      "InsTrack for Instagram - Analytics Plus More : 85535\n",
      "Telegram Messenger : 7573\n",
      "Tango - Free Video Call, Voice and Chat : 75412\n",
      "Peach — share vividly : 727\n",
      "Weibo : 7265\n",
      "Hey! VINA - Where Women Meet New Friends : 719\n",
      "LinkedIn : 71856\n",
      "botman - Real time video chat : 7\n",
      "Battlefield™ Companion : 689\n",
      "All Devices for WhatsApp - Messenger for iPad : 682\n",
      "Match™ - #1 Dating App. : 60659\n",
      "Periscope - Live Video Streaming Around the World : 6062\n",
      "Skype for iPad : 60163\n",
      "Mustknow - anonymous video Q&A : 53\n",
      "POF - Best Dating App for Conversations : 52642\n",
      "Chat for Whatsapp - iPad Version : 5060\n",
      "QQ HD : 5058\n",
      "Chat for Pokemon Go - GoChat : 500\n",
      "Timehop : 49510\n",
      "IAmNaughty – Dating App to Meet New People Online : 463\n",
      "Qzone HD : 458\n",
      "Find My Family, Friends & iPhone - Life360 Locator : 43877\n",
      "Zenly - Locate your friends in realtime : 427\n",
      "Followers Analysis Tool For Instagram App Free : 4253\n",
      "League of Legends Friends : 420\n",
      "live.ly - live video streaming : 4145\n",
      "豆瓣 : 407\n",
      "Houseparty - Group Video Chat : 3991\n",
      "Whisper - Share, Express, Meet : 39819\n",
      "Candid - Speak Your Mind Freely : 398\n",
      "知乎 : 397\n",
      "CTFxCmoji : 39\n",
      "Skype for iPhone : 373519\n",
      "Selfeo : 366\n",
      "Hangouts : 36404\n",
      "Lobi : 36\n",
      "Fake-A-Location Free ™ : 354\n",
      "Messenger : 351466\n",
      "Chain: Collaborate On MyVideo Story/Group Video : 35\n",
      "LINE PLAY - Your Avatar World : 34677\n",
      "WeChat : 34584\n",
      "Badoo - Meet New People, Chat, Socialize. : 34428\n",
      "Tumblr : 334293\n",
      "SOMA Messenger : 3232\n",
      "Monkey : 3060\n",
      "Facebook : 2974676\n",
      "WhatsApp Messenger : 287589\n",
      "Followers + for Instagram - Follower Analytics : 28633\n",
      "GroupMe : 28260\n",
      "Popcorn Buzz - Free Group Calls : 281\n",
      "Fam — Group video calling for iMessage : 279\n",
      "Marco Polo Video Walkie Talkie : 27662\n",
      "QQ International : 274\n",
      "Ameba : 269\n",
      "Kik : 260965\n",
      "Down To Lunch : 2535\n",
      "SoundCloud Pulse: for creators : 240\n",
      "Miitomo : 23965\n",
      "SimSimi : 23530\n",
      "Tantan : 235\n",
      "Grindr - Gay and same sex guys chat, meet and date : 23201\n",
      "Flinch - Video Chat Staring Contest : 2134\n",
      "Cougar Dating & Life Style App for Mature Women : 213\n",
      "Wishbone - Compare Anything : 20649\n",
      "Highrise - Your Avatar Community : 2011\n",
      "LOVOO - Dating Chat : 1985\n",
      "PlayStation®Messages : 1918\n",
      "imo video calls and chat : 18841\n",
      "After School - Funny Anonymous School News : 18482\n",
      "BOO! - Video chat camera with filters & stickers : 1805\n",
      "Rawr Messenger - Dab your chat : 180\n",
      "ooVoo – Free Video Call, Text and Voice : 177501\n",
      "Quick Reposter - Repost, Regram and Reshare Photos : 17694\n",
      "Weibo HD : 16772\n",
      "TextNow - Unlimited Text + Calls : 164963\n",
      "Qzone : 1649\n",
      "Viber Messenger – Text & Call : 164249\n",
      "Chatous - Chat with new people : 1609\n",
      "WhenToPost: Best Time to Post Photos for Instagram : 158\n",
      "Kiwi - Q&A : 1538\n",
      "Repost for Instagram : 15185\n",
      "Live.me – Live Video Chat & Make Friends Nearby : 14724\n",
      "Inke—Broadcast an amazing life : 147\n",
      "Nextdoor : 14402\n",
      "Followers Analytics for Instagram - InstaReport : 13914\n",
      "GhostCodes - a discovery app for Snapchat : 1313\n",
      "YouNow: Live Stream Video Chat : 12079\n",
      "FollowMeter for Instagram - Followers Tracking : 11976\n",
      "Jodel : 1193\n",
      "LINE : 11437\n",
      "Followers - Social Analytics For Instagram : 112778\n",
      "eHarmony™ Dating App - Meet Singles : 11124\n",
      "Pinterest : 1061624\n",
      "FireChat : 1037\n",
      "Google Duo - simple video calling : 1033\n",
      "niconico ch : 0\n",
      "bit-tube - Live Stream Video Chat : 0\n",
      "MATCH ON LINE chat : 0\n",
      "LINE BLOG : 0\n",
      "BestieBox : 0\n"
     ]
    }
   ],
   "source": [
    "# Use a for loop to display the rating for each app in the Reference genre\n",
    "\n",
    "ios_reference = []\n",
    "\n",
    "for row in ios_final:\n",
    "    if row[-5] == 'Reference':\n",
    "        ios_reference.append((row[5],row[1]))\n",
    "\n",
    "# Sort and display results in ascending order\n",
    "ios_reference_sorted = sorted(ios_reference,reverse=True)\n",
    "\n",
    "print(\"Rating for Apps in Reference genre\")\n",
    "print('\\n')\n",
    "\n",
    "for item in ios_reference_sorted:\n",
    "    print(item[1],':',item[0])\n",
    "    \n",
    "# Use a for loop to display the rating for each app in the Social Networking genre\n",
    "\n",
    "ios_sn = []\n",
    "\n",
    "for row in ios_final:\n",
    "    if row[-5] == 'Social Networking':\n",
    "        ios_sn.append((row[5],row[1]))\n",
    "\n",
    "# Sort and display results in ascending order\n",
    "ios_sn_sorted = sorted(ios_sn,reverse=True)\n",
    "\n",
    "print('\\n')\n",
    "print(\"Rating for Apps in Social Networking genre\")\n",
    "print('\\n')\n",
    "\n",
    "for item in ios_sn_sorted:\n",
    "    print(item[1],':',item[0])"
   ]
  },
  {
   "cell_type": "markdown",
   "metadata": {},
   "source": [
    "It seems that the pattern repeats for the `Reference` and `Social Networking` category, where a few apps dominate. INCOMPLETE?"
   ]
  }
 ],
 "metadata": {
  "kernelspec": {
   "display_name": "Python 3",
   "language": "python",
   "name": "python3"
  },
  "language_info": {
   "codemirror_mode": {
    "name": "ipython",
    "version": 3
   },
   "file_extension": ".py",
   "mimetype": "text/x-python",
   "name": "python",
   "nbconvert_exporter": "python",
   "pygments_lexer": "ipython3",
   "version": "3.8.2"
  }
 },
 "nbformat": 4,
 "nbformat_minor": 4
}
